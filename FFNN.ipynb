{
 "cells": [
  {
   "cell_type": "markdown",
   "metadata": {},
   "source": [
    "# Implement Feed Forward [Network](https://github.com/ABHISHEKSUBHASHSWAMI)"
   ]
  },
  {
   "cell_type": "markdown",
   "metadata": {},
   "source": [
    "## Import Numpy Library"
   ]
  },
  {
   "cell_type": "code",
   "execution_count": 11,
   "metadata": {},
   "outputs": [],
   "source": [
    "import numpy as np\n"
   ]
  },
  {
   "cell_type": "markdown",
   "metadata": {},
   "source": [
    "## Define Functions"
   ]
  },
  {
   "cell_type": "code",
   "execution_count": 12,
   "metadata": {},
   "outputs": [],
   "source": [
    "\n",
    "def activation(z):\n",
    "  return 1/(1+np.exp(-z))\n",
    "\n",
    "def loss_function(target,output):               \n",
    "  #Mean Squared Error\n",
    "  return (1/len(target))*np.square(target-output)\n",
    "\n",
    "def forwardpass(x,w1,w2,b1,b2):\n",
    "  #input to hidden layer\n",
    "  weighted_sum1=np.dot(x,w1)+b1\n",
    "  print(\"Weighted Sum from input layer :\\n\",weighted_sum1)\n",
    "  h_in=activation(weighted_sum1)\n",
    "  #hidden to output layer\n",
    "  weighted_sum2=np.dot(h_in,w2)+b2\n",
    "  print(\"Weighted Sum from hidden layer :\\n\",weighted_sum2)\n",
    "  h_out=activation(weighted_sum2)\n",
    "  return h_out\n"
   ]
  },
  {
   "cell_type": "markdown",
   "metadata": {},
   "source": [
    "## Load data"
   ]
  },
  {
   "cell_type": "code",
   "execution_count": 13,
   "metadata": {},
   "outputs": [],
   "source": [
    "\n",
    "#input data\n",
    "x=np.array([[0.1, 0.3], [0.7, 0.2], [0.2, 0.4]])\n",
    "\n",
    "#targets\n",
    "targets=np.array([[0], [1], [1]])\n",
    "\n",
    "# Weights and biases for the input layer to hidden layer\n",
    "w1= np.array([[0.8, 0.1], [0.9, 0.2]])\n",
    "b1 = np.array([0.1, 0.2])\n",
    "\n",
    "# Weights and bias for the hidden layer to output layer\n",
    "w2 = np.array([[0.7], [0.3]])\n",
    "b2= np.array([0.1])\n"
   ]
  },
  {
   "cell_type": "markdown",
   "metadata": {},
   "source": [
    "## Computation"
   ]
  },
  {
   "cell_type": "code",
   "execution_count": 14,
   "metadata": {},
   "outputs": [
    {
     "name": "stdout",
     "output_type": "stream",
     "text": [
      "Weighted Sum from input layer :\n",
      " [[0.45 0.27]\n",
      " [0.84 0.31]\n",
      " [0.62 0.3 ]]\n",
      "Weighted Sum from hidden layer :\n",
      " [[0.69757534]\n",
      " [0.76199123]\n",
      " [0.72748574]]\n",
      "Input Data :\n",
      " [[0.1 0.3]\n",
      " [0.7 0.2]\n",
      " [0.2 0.4]]\n",
      "Output :\n",
      " [[0.66764997]\n",
      " [0.6817859 ]\n",
      " [0.67425329]]\n",
      "Loss :\n",
      " [[0.1485855 ]\n",
      " [0.03375341]\n",
      " [0.03537031]]\n"
     ]
    }
   ],
   "source": [
    "\n",
    "final_output=forwardpass(x,w1,w2,b1,b2)\n",
    "loss=loss_function(targets,final_output)\n",
    "\n",
    "print(\"Input Data :\\n\",x)\n",
    "print(\"Output :\\n\",final_output)\n",
    "print(\"Loss :\\n\",loss)\n",
    "\n"
   ]
  }
 ],
 "metadata": {
  "kernelspec": {
   "display_name": "Python 3",
   "language": "python",
   "name": "python3"
  },
  "language_info": {
   "codemirror_mode": {
    "name": "ipython",
    "version": 3
   },
   "file_extension": ".py",
   "mimetype": "text/x-python",
   "name": "python",
   "nbconvert_exporter": "python",
   "pygments_lexer": "ipython3",
   "version": "3.9.9"
  }
 },
 "nbformat": 4,
 "nbformat_minor": 2
}
