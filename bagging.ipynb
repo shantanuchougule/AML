{
 "cells": [
  {
   "cell_type": "markdown",
   "metadata": {},
   "source": [
    "# Implementation of Bagging"
   ]
  },
  {
   "cell_type": "code",
   "execution_count": 6,
   "metadata": {},
   "outputs": [
    {
     "name": "stdout",
     "output_type": "stream",
     "text": [
      "Decision Tree Classifier Accuracy: 90.0%\n",
      "Bagging Classifier Accuracy: 95.0%\n"
     ]
    }
   ],
   "source": [
    "import numpy as np\n",
    "from sklearn.tree import DecisionTreeClassifier\n",
    "from sklearn.metrics import accuracy_score\n",
    "\n",
    "class BaggingClassifier:\n",
    "    def __init__(self, base_learner, n_estimators):\n",
    "        self.base_learner = base_learner\n",
    "        self.n_estimators = n_estimators\n",
    "        self.models = []\n",
    "\n",
    "    def fit(self, X, y):\n",
    "        for _ in range(self.n_estimators):\n",
    "            # Create a bootstrap sample\n",
    "            indices = np.random.choice(len(X), size=len(X), replace=True)\n",
    "            X_bootstrap, y_bootstrap = X[indices], y[indices]\n",
    "\n",
    "            # Train a base learner on the bootstrap sample\n",
    "            model = self.base_learner()\n",
    "            model.fit(X_bootstrap, y_bootstrap)\n",
    "            self.models.append(model)\n",
    "\n",
    "    def predict(self, X):\n",
    "        # Make predictions with each base learner\n",
    "        predictions = [model.predict(X) for model in self.models]\n",
    "\n",
    "        # Aggregate predictions using majority voting\n",
    "        ensemble_predictions = np.round(np.mean(predictions, axis=0))\n",
    "\n",
    "        return ensemble_predictions.astype(int)\n",
    "\n",
    "# Example usage with a synthetic dataset\n",
    "np.random.seed(42)\n",
    "X = np.random.rand(100, 2)\n",
    "y = (X[:, 0] + X[:, 1] > 1).astype(int)\n",
    "\n",
    "# Split the dataset into training and testing sets\n",
    "X_train, X_test = X[:80], X[80:]\n",
    "y_train, y_test = y[:80], y[80:]\n",
    "\n",
    "# Create a decision tree classifier\n",
    "base_learner = DecisionTreeClassifier()\n",
    "\n",
    "# Train the decision tree and calculate accuracy\n",
    "base_learner.fit(X_train, y_train)\n",
    "y_pred_base = base_learner.predict(X_test)\n",
    "dtc_accuracy = accuracy_score(y_test, y_pred_base)\n",
    "print(f\"Decision Tree Classifier Accuracy: {dtc_accuracy * 100}%\")\n",
    "\n",
    "# Bagging classifier with DecisionTreeClassifier as the base learner\n",
    "bagging_classifier = BaggingClassifier(base_learner=DecisionTreeClassifier, n_estimators=5)\n",
    "\n",
    "# Train the bagging classifier\n",
    "bagging_classifier.fit(X_train, y_train)\n",
    "\n",
    "# Make predictions on the test set\n",
    "y_pred_bagging = bagging_classifier.predict(X_test)\n",
    "\n",
    "# Calculate accuracy\n",
    "bagging_accuracy = accuracy_score(y_test, y_pred_bagging)\n",
    "print(f\"Bagging Classifier Accuracy: {bagging_accuracy * 100}%\")\n"
   ]
  }
 ],
 "metadata": {
  "kernelspec": {
   "display_name": "Python 3",
   "language": "python",
   "name": "python3"
  },
  "language_info": {
   "codemirror_mode": {
    "name": "ipython",
    "version": 3
   },
   "file_extension": ".py",
   "mimetype": "text/x-python",
   "name": "python",
   "nbconvert_exporter": "python",
   "pygments_lexer": "ipython3",
   "version": "3.9.9"
  }
 },
 "nbformat": 4,
 "nbformat_minor": 2
}
